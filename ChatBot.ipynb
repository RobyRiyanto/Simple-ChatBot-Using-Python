{
 "cells": [
  {
   "cell_type": "markdown",
   "metadata": {},
   "source": [
    "# ChatBot Sederhana"
   ]
  },
  {
   "cell_type": "markdown",
   "metadata": {},
   "source": [
    "Membuat sebuah ChatBot yang memberikan suatu respon dimana ChatBot ini menerima satu argument string, jika sebuah kalimat adalah pertanyaan kemudian ChatBot mengecek lagi apakah pertanyaan tersebut adalah pertanyaan yang bisa di jawab atau tidak. Jika pertanyaannya bisa di jawab maka ChatBot ini akan memberikan jawaban yang bersifat random berdasarkan opsi list jawaban yang disediakan berdasarkan jenis pertanyaan tersebut. Jika tidak maka ChatBot akan memberikan jawaban default bahwa ChatBot tidak mengerti pertanyaannya.\n",
    "\n",
    "Jika kalimat yang dikirim adalah bukan pertanyaan maka chatbot akan memberikan sebuah statement jawaban yang disediakan."
   ]
  },
  {
   "cell_type": "code",
   "execution_count": 66,
   "metadata": {},
   "outputs": [
    {
     "name": "stdout",
     "output_type": "stream",
     "text": [
      "nama saya Roby\n"
     ]
    }
   ],
   "source": [
    "from datetime import datetime\n",
    "import random\n",
    "\n",
    "# ganti dengan sebuah nama\n",
    "nama  = \"Roby\"\n",
    "# variabel tanggal\n",
    "tanggal = datetime.now().day\n",
    "# variabel aktivitas\n",
    "aktivitas = \"chatbox\"\n",
    "# default variabel untuk pertanyaan tidak diketahui\n",
    "default = \"maaf, aku tidak tahu jawaban dari pertanyaanmu\"\n",
    "\n",
    "# Membuat objek dictionary berisi berbagai opsi jawaban\n",
    "\n",
    "# list jawaban untuk pertanyaan tentang nama\n",
    "jawaban_nama = [\n",
    "    \"nama saya {0}\".format(nama),\n",
    "    \"orang-orang memanggil saya {0}\".format(nama),\n",
    "    \"panggil saja saya {0}\".format(nama)\n",
    "]\n",
    "\n",
    "# list jawaban untuk pertanyaan tentang tanggal\n",
    "jawaban_tanggal = [\n",
    "    \"hari ini tanggal {0}\".format(tanggal), \n",
    "    \"ya ampun masa tidak tahu, hari ini tanggal {0}\".format(tanggal)\n",
    "]\n",
    "\n",
    "# list jawaban untuk pertanyaan tentang aktivitas\n",
    "jawaban_aktivitas = [\n",
    "    \"aku sedang membuat {0}\".format(aktivitas), \n",
    "    \"aku sedang membuat pertanyaan untuk {0}\".format(aktivitas)\n",
    "]\n",
    "\n",
    "# opsi pertanyaan yang bisa dijawab\n",
    "pertanyaan = {\n",
    "    \"nama kamu siapa?\": jawaban_nama,\n",
    "    \"kamu siapa?\" : jawaban_nama,\n",
    "    \"tanggal berapa hari ini?\": jawaban_tanggal,\n",
    "    \"hari ini tanggal berapa?\" : jawaban_tanggal,\n",
    "    \"kamu sibuk?\" : jawaban_tanggal,\n",
    "    \"default\": default\n",
    "}\n",
    "\n",
    "# list jawaban untuk sebuah argument selain pertanyaan\n",
    "statement = [\n",
    "    'ceritakan lebih banyak!',\n",
    "    'kenapa kamu berpikir begitu?',\n",
    "    'sudah berapa lama kamu merasa seperti ini?',\n",
    "    'Itu sangat menarik!',\n",
    "    'oh wow!',\n",
    "    ':)'\n",
    "]\n",
    "\n",
    "# respon keseluruhan\n",
    "responses = {\n",
    "    'pertanyaan' : pertanyaan,\n",
    "    'statement' : statement\n",
    "}\n",
    "#------\n",
    "             \n",
    "# function here\n",
    "def chatbot(message):\n",
    "    ## function here\n",
    "    for index in message[-1]:\n",
    "        if index =='?':\n",
    "            if 'nama' in message:\n",
    "                return random.choice(jawaban_nama)\n",
    "            elif 'tanggal' in message:\n",
    "                return random.choice(jawaban_tanggal)\n",
    "            elif 'sibuk' in message:\n",
    "                return random.choice(jawaban_aktivitas)\n",
    "            elif 'sedang' in message:\n",
    "                return random.choice(jawaban_aktivitas)\n",
    "            elif 'lagi apa' in message:\n",
    "                return random.choice(jawaban_aktivitas)\n",
    "            else:\n",
    "                return default\n",
    "        else:\n",
    "            return random.choice(statement)\n",
    "            \n",
    "            \n",
    "#print(chatbot('Selamat Pagi'))\n",
    "#print(chatbot('Mau bermain bersamaku?'))\n",
    "#print(chatbot('nama kamu siapa?'))\n",
    "#print(chatbot('hari ini tanggal berapa?'))\n",
    "\n",
    "print(chatbot('nama kamu siapa?'))"
   ]
  },
  {
   "cell_type": "code",
   "execution_count": 67,
   "metadata": {},
   "outputs": [
    {
     "name": "stdout",
     "output_type": "stream",
     "text": [
      "hari ini tanggal 30\n"
     ]
    }
   ],
   "source": [
    "print(chatbot('hari ini tanggal berapa?'))"
   ]
  },
  {
   "cell_type": "code",
   "execution_count": 68,
   "metadata": {},
   "outputs": [
    {
     "name": "stdout",
     "output_type": "stream",
     "text": [
      "aku sedang membuat chatbox\n"
     ]
    }
   ],
   "source": [
    "print(chatbot('kamu sibuk?'))"
   ]
  }
 ],
 "metadata": {
  "kernelspec": {
   "display_name": "Python 3",
   "language": "python",
   "name": "python3"
  },
  "language_info": {
   "codemirror_mode": {
    "name": "ipython",
    "version": 3
   },
   "file_extension": ".py",
   "mimetype": "text/x-python",
   "name": "python",
   "nbconvert_exporter": "python",
   "pygments_lexer": "ipython3",
   "version": "3.7.6"
  }
 },
 "nbformat": 4,
 "nbformat_minor": 4
}
